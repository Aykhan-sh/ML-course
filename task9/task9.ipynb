{
 "cells": [
  {
   "cell_type": "markdown",
   "metadata": {},
   "source": [
    "# Task 9"
   ]
  },
  {
   "cell_type": "code",
   "execution_count": 13,
   "metadata": {},
   "outputs": [],
   "source": [
    "def solution(N):\n",
    "    result = 0\n",
    "    curr_result = 0\n",
    "    is_open = False\n",
    "    a = -1\n",
    "    b = -1\n",
    "    while N > 0:\n",
    "        a = N%2\n",
    "        if not is_open and a==1:\n",
    "            is_open = True\n",
    "        if is_open and a==0:\n",
    "            curr_result += 1\n",
    "        if is_open and a==1:\n",
    "            if curr_result > result:\n",
    "                result = curr_result\n",
    "            curr_result = 0\n",
    "        N = N//2\n",
    "    return result"
   ]
  },
  {
   "cell_type": "code",
   "execution_count": 28,
   "metadata": {},
   "outputs": [],
   "source": [
    "assert solution(529) == 4\n",
    "assert solution(20) == 1\n",
    "assert solution(15) == 0\n",
    "assert solution(32) == 0\n",
    "assert solution(1041) == 5"
   ]
  },
  {
   "cell_type": "markdown",
   "metadata": {},
   "source": [
    "# Task 9.1"
   ]
  },
  {
   "cell_type": "markdown",
   "metadata": {},
   "source": [
    "## 2"
   ]
  },
  {
   "cell_type": "code",
   "execution_count": 34,
   "metadata": {},
   "outputs": [],
   "source": [
    "def solution(A):\n",
    "    uniques = {}\n",
    "    for i in A:\n",
    "        if i not in uniques:\n",
    "            uniques[i] = 1\n",
    "        else:\n",
    "            uniques[i] += 1\n",
    "    for key, value in uniques.items():\n",
    "        if value%2 != 0 :\n",
    "            return key"
   ]
  },
  {
   "cell_type": "code",
   "execution_count": 35,
   "metadata": {},
   "outputs": [],
   "source": [
    "A = [9, 3, 9, 3, 9, 7, 9]\n",
    "assert solution(A) == 7"
   ]
  },
  {
   "cell_type": "markdown",
   "metadata": {},
   "source": [
    "## 3"
   ]
  },
  {
   "cell_type": "code",
   "execution_count": null,
   "metadata": {},
   "outputs": [],
   "source": []
  }
 ],
 "metadata": {
  "kernelspec": {
   "display_name": "Python 3",
   "language": "python",
   "name": "python3"
  },
  "language_info": {
   "codemirror_mode": {
    "name": "ipython",
    "version": 3
   },
   "file_extension": ".py",
   "mimetype": "text/x-python",
   "name": "python",
   "nbconvert_exporter": "python",
   "pygments_lexer": "ipython3",
   "version": "3.8.5"
  }
 },
 "nbformat": 4,
 "nbformat_minor": 4
}
